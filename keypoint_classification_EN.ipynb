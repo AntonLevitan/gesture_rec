{
 "cells": [
  {
   "cell_type": "code",
   "execution_count": 1,
   "metadata": {
    "id": "igMyGnjE9hEp"
   },
   "outputs": [],
   "source": [
    "import csv\n",
    "\n",
    "import numpy as np\n",
    "import pandas as pd\n",
    "import tensorflow as tf\n",
    "from sklearn.model_selection import train_test_split\n",
    "\n",
    "RANDOM_SEED = 42"
   ]
  },
  {
   "cell_type": "markdown",
   "metadata": {
    "id": "t2HDvhIu9hEr"
   },
   "source": [
    "# Specify each path"
   ]
  },
  {
   "cell_type": "code",
   "execution_count": 2,
   "metadata": {
    "id": "9NvZP2Zn9hEy"
   },
   "outputs": [],
   "source": [
    "dataset = 'combined_a_z_2.csv'\n",
    "model_save_path = 'keypoint_classifier.hdf5'\n",
    "tflite_save_path = 'keypoint_classifier.tflite'"
   ]
  },
  {
   "cell_type": "markdown",
   "metadata": {
    "id": "s5oMH7x19hEz"
   },
   "source": [
    "# Set number of classes"
   ]
  },
  {
   "cell_type": "code",
   "execution_count": 3,
   "metadata": {
    "id": "du4kodXL9hEz"
   },
   "outputs": [],
   "source": [
    "NUM_CLASSES = 26"
   ]
  },
  {
   "cell_type": "markdown",
   "metadata": {
    "id": "XjnL0uso9hEz"
   },
   "source": [
    "# Dataset reading"
   ]
  },
  {
   "cell_type": "code",
   "execution_count": 4,
   "metadata": {
    "id": "QT5ZqtEz9hE0"
   },
   "outputs": [],
   "source": [
    "X_dataset = pd.read_csv(dataset, header=None)"
   ]
  },
  {
   "cell_type": "code",
   "execution_count": 5,
   "metadata": {},
   "outputs": [],
   "source": [
    "X = X_dataset.iloc[:, 1:].copy()"
   ]
  },
  {
   "cell_type": "code",
   "execution_count": 6,
   "metadata": {
    "id": "QmoKFsp49hE0"
   },
   "outputs": [],
   "source": [
    "y = X_dataset.iloc[:, 0].copy()"
   ]
  },
  {
   "cell_type": "code",
   "execution_count": 7,
   "metadata": {
    "id": "xQU7JTZ_9hE0"
   },
   "outputs": [],
   "source": [
    "X_train, X_test, y_train, y_test = train_test_split(X.values, y.values, train_size=0.75, random_state=RANDOM_SEED)"
   ]
  },
  {
   "cell_type": "markdown",
   "metadata": {
    "id": "mxK_lETT9hE0"
   },
   "source": [
    "# Model building"
   ]
  },
  {
   "cell_type": "code",
   "execution_count": 8,
   "metadata": {
    "id": "vHBmUf1t9hE1"
   },
   "outputs": [],
   "source": [
    "model = tf.keras.models.Sequential([\n",
    "    tf.keras.layers.Input((42, )),\n",
    "    tf.keras.layers.Dropout(0.2),\n",
    "    tf.keras.layers.Dense(20, activation='relu'),\n",
    "    tf.keras.layers.Dropout(0.4),\n",
    "    tf.keras.layers.Dense(10, activation='relu'),\n",
    "    tf.keras.layers.Dense(NUM_CLASSES, activation='softmax')\n",
    "])"
   ]
  },
  {
   "cell_type": "code",
   "execution_count": 9,
   "metadata": {
    "colab": {
     "base_uri": "https://localhost:8080/"
    },
    "id": "ypqky9tc9hE1",
    "outputId": "5db082bb-30e3-4110-bf63-a1ee777ecd46"
   },
   "outputs": [
    {
     "name": "stdout",
     "output_type": "stream",
     "text": [
      "Model: \"sequential\"\n",
      "_________________________________________________________________\n",
      " Layer (type)                Output Shape              Param #   \n",
      "=================================================================\n",
      " dropout (Dropout)           (None, 42)                0         \n",
      "                                                                 \n",
      " dense (Dense)               (None, 20)                860       \n",
      "                                                                 \n",
      " dropout_1 (Dropout)         (None, 20)                0         \n",
      "                                                                 \n",
      " dense_1 (Dense)             (None, 10)                210       \n",
      "                                                                 \n",
      " dense_2 (Dense)             (None, 26)                286       \n",
      "                                                                 \n",
      "=================================================================\n",
      "Total params: 1,356\n",
      "Trainable params: 1,356\n",
      "Non-trainable params: 0\n",
      "_________________________________________________________________\n"
     ]
    }
   ],
   "source": [
    "model.summary()  # tf.keras.utils.plot_model(model, show_shapes=True)"
   ]
  },
  {
   "cell_type": "code",
   "execution_count": 10,
   "metadata": {
    "id": "MbMjOflQ9hE1"
   },
   "outputs": [],
   "source": [
    "# Model checkpoint callback\n",
    "cp_callback = tf.keras.callbacks.ModelCheckpoint(\n",
    "    model_save_path, verbose=1, save_weights_only=False)\n",
    "# Callback for early stopping\n",
    "es_callback = tf.keras.callbacks.EarlyStopping(patience=20, verbose=1)"
   ]
  },
  {
   "cell_type": "code",
   "execution_count": 11,
   "metadata": {
    "id": "c3Dac0M_9hE2"
   },
   "outputs": [],
   "source": [
    "# Model compilation\n",
    "model.compile(\n",
    "    optimizer='adam',\n",
    "    loss='sparse_categorical_crossentropy',\n",
    "    metrics=['accuracy']\n",
    ")"
   ]
  },
  {
   "cell_type": "markdown",
   "metadata": {
    "id": "7XI0j1Iu9hE2"
   },
   "source": [
    "# Model training"
   ]
  },
  {
   "cell_type": "code",
   "execution_count": 12,
   "metadata": {
    "colab": {
     "base_uri": "https://localhost:8080/"
    },
    "id": "WirBl-JE9hE3",
    "outputId": "71b30ca2-8294-4d9d-8aa2-800d90d399de",
    "scrolled": true
   },
   "outputs": [
    {
     "name": "stdout",
     "output_type": "stream",
     "text": [
      "Epoch 1/1000\n",
      "76/87 [=========================>....] - ETA: 0s - loss: 3.1759 - accuracy: 0.0964\n",
      "Epoch 1: saving model to keypoint_classifier.hdf5\n",
      "87/87 [==============================] - 1s 4ms/step - loss: 3.1649 - accuracy: 0.0994 - val_loss: 2.9881 - val_accuracy: 0.2466\n",
      "Epoch 2/1000\n",
      "86/87 [============================>.] - ETA: 0s - loss: 2.8607 - accuracy: 0.1709\n",
      "Epoch 2: saving model to keypoint_classifier.hdf5\n",
      "87/87 [==============================] - 0s 2ms/step - loss: 2.8611 - accuracy: 0.1707 - val_loss: 2.4865 - val_accuracy: 0.2447\n",
      "Epoch 3/1000\n",
      "87/87 [==============================] - ETA: 0s - loss: 2.4837 - accuracy: 0.2236\n",
      "Epoch 3: saving model to keypoint_classifier.hdf5\n",
      "87/87 [==============================] - 0s 2ms/step - loss: 2.4837 - accuracy: 0.2236 - val_loss: 2.0463 - val_accuracy: 0.4171\n",
      "Epoch 4/1000\n",
      "86/87 [============================>.] - ETA: 0s - loss: 2.1930 - accuracy: 0.2894\n",
      "Epoch 4: saving model to keypoint_classifier.hdf5\n",
      "87/87 [==============================] - 0s 2ms/step - loss: 2.1927 - accuracy: 0.2897 - val_loss: 1.7075 - val_accuracy: 0.6183\n",
      "Epoch 5/1000\n",
      "44/87 [==============>...............] - ETA: 0s - loss: 2.0297 - accuracy: 0.3200\n",
      "Epoch 5: saving model to keypoint_classifier.hdf5\n",
      "87/87 [==============================] - 0s 2ms/step - loss: 1.9986 - accuracy: 0.3284 - val_loss: 1.4862 - val_accuracy: 0.7069\n",
      "Epoch 6/1000\n",
      "87/87 [==============================] - ETA: 0s - loss: 1.8608 - accuracy: 0.3688\n",
      "Epoch 6: saving model to keypoint_classifier.hdf5\n",
      "87/87 [==============================] - 0s 2ms/step - loss: 1.8608 - accuracy: 0.3688 - val_loss: 1.3279 - val_accuracy: 0.7308\n",
      "Epoch 7/1000\n",
      "44/87 [==============>...............] - ETA: 0s - loss: 1.8186 - accuracy: 0.3741\n",
      "Epoch 7: saving model to keypoint_classifier.hdf5\n",
      "87/87 [==============================] - 0s 2ms/step - loss: 1.7790 - accuracy: 0.3894 - val_loss: 1.2233 - val_accuracy: 0.7825\n",
      "Epoch 8/1000\n",
      "83/87 [===========================>..] - ETA: 0s - loss: 1.7032 - accuracy: 0.4190\n",
      "Epoch 8: saving model to keypoint_classifier.hdf5\n",
      "87/87 [==============================] - 0s 2ms/step - loss: 1.7032 - accuracy: 0.4195 - val_loss: 1.1377 - val_accuracy: 0.8225\n",
      "Epoch 9/1000\n",
      "86/87 [============================>.] - ETA: 0s - loss: 1.6395 - accuracy: 0.4420\n",
      "Epoch 9: saving model to keypoint_classifier.hdf5\n",
      "87/87 [==============================] - 0s 2ms/step - loss: 1.6396 - accuracy: 0.4420 - val_loss: 1.0624 - val_accuracy: 0.8556\n",
      "Epoch 10/1000\n",
      "44/87 [==============>...............] - ETA: 0s - loss: 1.6149 - accuracy: 0.4478\n",
      "Epoch 10: saving model to keypoint_classifier.hdf5\n",
      "87/87 [==============================] - 0s 2ms/step - loss: 1.6012 - accuracy: 0.4541 - val_loss: 1.0128 - val_accuracy: 0.8763\n",
      "Epoch 11/1000\n",
      "43/87 [=============>................] - ETA: 0s - loss: 1.5877 - accuracy: 0.4531\n",
      "Epoch 11: saving model to keypoint_classifier.hdf5\n",
      "87/87 [==============================] - 0s 2ms/step - loss: 1.5636 - accuracy: 0.4652 - val_loss: 0.9677 - val_accuracy: 0.8325\n",
      "Epoch 12/1000\n",
      "46/87 [==============>...............] - ETA: 0s - loss: 1.5425 - accuracy: 0.4728\n",
      "Epoch 12: saving model to keypoint_classifier.hdf5\n",
      "87/87 [==============================] - 0s 2ms/step - loss: 1.5281 - accuracy: 0.4735 - val_loss: 0.9197 - val_accuracy: 0.8695\n",
      "Epoch 13/1000\n",
      "45/87 [==============>...............] - ETA: 0s - loss: 1.4925 - accuracy: 0.4795\n",
      "Epoch 13: saving model to keypoint_classifier.hdf5\n",
      "87/87 [==============================] - 0s 2ms/step - loss: 1.4898 - accuracy: 0.4837 - val_loss: 0.8865 - val_accuracy: 0.8812\n",
      "Epoch 14/1000\n",
      "84/87 [===========================>..] - ETA: 0s - loss: 1.4624 - accuracy: 0.4929\n",
      "Epoch 14: saving model to keypoint_classifier.hdf5\n",
      "87/87 [==============================] - 0s 2ms/step - loss: 1.4649 - accuracy: 0.4920 - val_loss: 0.8521 - val_accuracy: 0.8592\n",
      "Epoch 15/1000\n",
      "42/87 [=============>................] - ETA: 0s - loss: 1.4454 - accuracy: 0.5000\n",
      "Epoch 15: saving model to keypoint_classifier.hdf5\n",
      "87/87 [==============================] - 0s 2ms/step - loss: 1.4295 - accuracy: 0.5045 - val_loss: 0.8034 - val_accuracy: 0.8953\n",
      "Epoch 16/1000\n",
      "45/87 [==============>...............] - ETA: 0s - loss: 1.3903 - accuracy: 0.5248\n",
      "Epoch 16: saving model to keypoint_classifier.hdf5\n",
      "87/87 [==============================] - 0s 2ms/step - loss: 1.3931 - accuracy: 0.5204 - val_loss: 0.7890 - val_accuracy: 0.8817\n",
      "Epoch 17/1000\n",
      "43/87 [=============>................] - ETA: 0s - loss: 1.3509 - accuracy: 0.5309\n",
      "Epoch 17: saving model to keypoint_classifier.hdf5\n",
      "87/87 [==============================] - 0s 2ms/step - loss: 1.3553 - accuracy: 0.5319 - val_loss: 0.7610 - val_accuracy: 0.8918\n",
      "Epoch 18/1000\n",
      "45/87 [==============>...............] - ETA: 0s - loss: 1.3810 - accuracy: 0.5174\n",
      "Epoch 18: saving model to keypoint_classifier.hdf5\n",
      "87/87 [==============================] - 0s 2ms/step - loss: 1.3649 - accuracy: 0.5280 - val_loss: 0.7366 - val_accuracy: 0.9125\n",
      "Epoch 19/1000\n",
      "45/87 [==============>...............] - ETA: 0s - loss: 1.3472 - accuracy: 0.5293\n",
      "Epoch 19: saving model to keypoint_classifier.hdf5\n",
      "87/87 [==============================] - 0s 2ms/step - loss: 1.3401 - accuracy: 0.5301 - val_loss: 0.7377 - val_accuracy: 0.8918\n",
      "Epoch 20/1000\n",
      "46/87 [==============>...............] - ETA: 0s - loss: 1.3428 - accuracy: 0.5287\n",
      "Epoch 20: saving model to keypoint_classifier.hdf5\n",
      "87/87 [==============================] - 0s 2ms/step - loss: 1.3301 - accuracy: 0.5325 - val_loss: 0.7003 - val_accuracy: 0.9114\n",
      "Epoch 21/1000\n",
      "45/87 [==============>...............] - ETA: 0s - loss: 1.2979 - accuracy: 0.5483\n",
      "Epoch 21: saving model to keypoint_classifier.hdf5\n",
      "87/87 [==============================] - 0s 2ms/step - loss: 1.3136 - accuracy: 0.5443 - val_loss: 0.7039 - val_accuracy: 0.8948\n",
      "Epoch 22/1000\n",
      "45/87 [==============>...............] - ETA: 0s - loss: 1.3093 - accuracy: 0.5450\n",
      "Epoch 22: saving model to keypoint_classifier.hdf5\n",
      "87/87 [==============================] - 0s 2ms/step - loss: 1.3054 - accuracy: 0.5459 - val_loss: 0.6850 - val_accuracy: 0.9095\n",
      "Epoch 23/1000\n",
      "44/87 [==============>...............] - ETA: 0s - loss: 1.2890 - accuracy: 0.5568\n",
      "Epoch 23: saving model to keypoint_classifier.hdf5\n",
      "87/87 [==============================] - 0s 2ms/step - loss: 1.2852 - accuracy: 0.5553 - val_loss: 0.6596 - val_accuracy: 0.9214\n",
      "Epoch 24/1000\n",
      "42/87 [=============>................] - ETA: 0s - loss: 1.2744 - accuracy: 0.5569\n",
      "Epoch 24: saving model to keypoint_classifier.hdf5\n",
      "87/87 [==============================] - 0s 2ms/step - loss: 1.2556 - accuracy: 0.5639 - val_loss: 0.6426 - val_accuracy: 0.9108\n",
      "Epoch 25/1000\n",
      "45/87 [==============>...............] - ETA: 0s - loss: 1.2504 - accuracy: 0.5639\n",
      "Epoch 25: saving model to keypoint_classifier.hdf5\n",
      "87/87 [==============================] - 0s 2ms/step - loss: 1.2553 - accuracy: 0.5613 - val_loss: 0.6280 - val_accuracy: 0.9334\n",
      "Epoch 26/1000\n",
      "44/87 [==============>...............] - ETA: 0s - loss: 1.2411 - accuracy: 0.5691\n",
      "Epoch 26: saving model to keypoint_classifier.hdf5\n",
      "87/87 [==============================] - 0s 2ms/step - loss: 1.2393 - accuracy: 0.5674 - val_loss: 0.6199 - val_accuracy: 0.9367\n",
      "Epoch 27/1000\n",
      "44/87 [==============>...............] - ETA: 0s - loss: 1.2423 - accuracy: 0.5625\n",
      "Epoch 27: saving model to keypoint_classifier.hdf5\n",
      "87/87 [==============================] - 0s 2ms/step - loss: 1.2362 - accuracy: 0.5641 - val_loss: 0.6093 - val_accuracy: 0.9405\n",
      "Epoch 28/1000\n",
      "46/87 [==============>...............] - ETA: 0s - loss: 1.2267 - accuracy: 0.5742\n",
      "Epoch 28: saving model to keypoint_classifier.hdf5\n",
      "87/87 [==============================] - 0s 2ms/step - loss: 1.2258 - accuracy: 0.5771 - val_loss: 0.5926 - val_accuracy: 0.9347\n",
      "Epoch 29/1000\n",
      "47/87 [===============>..............] - ETA: 0s - loss: 1.2521 - accuracy: 0.5617\n",
      "Epoch 29: saving model to keypoint_classifier.hdf5\n",
      "87/87 [==============================] - 0s 2ms/step - loss: 1.2225 - accuracy: 0.5731 - val_loss: 0.5860 - val_accuracy: 0.9315\n",
      "Epoch 30/1000\n",
      "45/87 [==============>...............] - ETA: 0s - loss: 1.1974 - accuracy: 0.5750\n",
      "Epoch 30: saving model to keypoint_classifier.hdf5\n",
      "87/87 [==============================] - 0s 2ms/step - loss: 1.1840 - accuracy: 0.5799 - val_loss: 0.5639 - val_accuracy: 0.9361\n"
     ]
    },
    {
     "name": "stdout",
     "output_type": "stream",
     "text": [
      "Epoch 31/1000\n",
      "45/87 [==============>...............] - ETA: 0s - loss: 1.2031 - accuracy: 0.5814\n",
      "Epoch 31: saving model to keypoint_classifier.hdf5\n",
      "87/87 [==============================] - 0s 2ms/step - loss: 1.1991 - accuracy: 0.5869 - val_loss: 0.5712 - val_accuracy: 0.9396\n",
      "Epoch 32/1000\n",
      "46/87 [==============>...............] - ETA: 0s - loss: 1.1881 - accuracy: 0.5797\n",
      "Epoch 32: saving model to keypoint_classifier.hdf5\n",
      "87/87 [==============================] - 0s 2ms/step - loss: 1.1762 - accuracy: 0.5867 - val_loss: 0.5502 - val_accuracy: 0.9464\n",
      "Epoch 33/1000\n",
      "45/87 [==============>...............] - ETA: 0s - loss: 1.1670 - accuracy: 0.5960\n",
      "Epoch 33: saving model to keypoint_classifier.hdf5\n",
      "87/87 [==============================] - 0s 2ms/step - loss: 1.1736 - accuracy: 0.5936 - val_loss: 0.5519 - val_accuracy: 0.9489\n",
      "Epoch 34/1000\n",
      "46/87 [==============>...............] - ETA: 0s - loss: 1.1410 - accuracy: 0.6043\n",
      "Epoch 34: saving model to keypoint_classifier.hdf5\n",
      "87/87 [==============================] - 0s 2ms/step - loss: 1.1499 - accuracy: 0.6018 - val_loss: 0.5388 - val_accuracy: 0.9299\n",
      "Epoch 35/1000\n",
      "44/87 [==============>...............] - ETA: 0s - loss: 1.1751 - accuracy: 0.5806\n",
      "Epoch 35: saving model to keypoint_classifier.hdf5\n",
      "87/87 [==============================] - 0s 2ms/step - loss: 1.1570 - accuracy: 0.5912 - val_loss: 0.5220 - val_accuracy: 0.9443\n",
      "Epoch 36/1000\n",
      "44/87 [==============>...............] - ETA: 0s - loss: 1.1479 - accuracy: 0.5957\n",
      "Epoch 36: saving model to keypoint_classifier.hdf5\n",
      "87/87 [==============================] - 0s 2ms/step - loss: 1.1505 - accuracy: 0.5961 - val_loss: 0.5339 - val_accuracy: 0.9421\n",
      "Epoch 37/1000\n",
      "46/87 [==============>...............] - ETA: 0s - loss: 1.1160 - accuracy: 0.6119\n",
      "Epoch 37: saving model to keypoint_classifier.hdf5\n",
      "87/87 [==============================] - 0s 2ms/step - loss: 1.1309 - accuracy: 0.6016 - val_loss: 0.5116 - val_accuracy: 0.9530\n",
      "Epoch 38/1000\n",
      "45/87 [==============>...............] - ETA: 0s - loss: 1.1271 - accuracy: 0.6128\n",
      "Epoch 38: saving model to keypoint_classifier.hdf5\n",
      "87/87 [==============================] - 0s 2ms/step - loss: 1.1358 - accuracy: 0.6087 - val_loss: 0.5127 - val_accuracy: 0.9502\n",
      "Epoch 39/1000\n",
      "87/87 [==============================] - ETA: 0s - loss: 1.1269 - accuracy: 0.6084\n",
      "Epoch 39: saving model to keypoint_classifier.hdf5\n",
      "87/87 [==============================] - 0s 2ms/step - loss: 1.1269 - accuracy: 0.6084 - val_loss: 0.5039 - val_accuracy: 0.9478\n",
      "Epoch 40/1000\n",
      "84/87 [===========================>..] - ETA: 0s - loss: 1.1228 - accuracy: 0.6124\n",
      "Epoch 40: saving model to keypoint_classifier.hdf5\n",
      "87/87 [==============================] - 0s 2ms/step - loss: 1.1207 - accuracy: 0.6128 - val_loss: 0.4891 - val_accuracy: 0.9570\n",
      "Epoch 41/1000\n",
      "86/87 [============================>.] - ETA: 0s - loss: 1.1230 - accuracy: 0.6084\n",
      "Epoch 41: saving model to keypoint_classifier.hdf5\n",
      "87/87 [==============================] - 0s 2ms/step - loss: 1.1225 - accuracy: 0.6087 - val_loss: 0.4922 - val_accuracy: 0.9541\n",
      "Epoch 42/1000\n",
      "86/87 [============================>.] - ETA: 0s - loss: 1.1229 - accuracy: 0.6078\n",
      "Epoch 42: saving model to keypoint_classifier.hdf5\n",
      "87/87 [==============================] - 0s 2ms/step - loss: 1.1227 - accuracy: 0.6077 - val_loss: 0.4922 - val_accuracy: 0.9560\n",
      "Epoch 43/1000\n",
      "74/87 [========================>.....] - ETA: 0s - loss: 1.1062 - accuracy: 0.6139\n",
      "Epoch 43: saving model to keypoint_classifier.hdf5\n",
      "87/87 [==============================] - 0s 2ms/step - loss: 1.1102 - accuracy: 0.6125 - val_loss: 0.4913 - val_accuracy: 0.9405\n",
      "Epoch 44/1000\n",
      "85/87 [============================>.] - ETA: 0s - loss: 1.1174 - accuracy: 0.6222\n",
      "Epoch 44: saving model to keypoint_classifier.hdf5\n",
      "87/87 [==============================] - 0s 2ms/step - loss: 1.1177 - accuracy: 0.6222 - val_loss: 0.4730 - val_accuracy: 0.9519\n",
      "Epoch 45/1000\n",
      "80/87 [==========================>...] - ETA: 0s - loss: 1.0994 - accuracy: 0.6178\n",
      "Epoch 45: saving model to keypoint_classifier.hdf5\n",
      "87/87 [==============================] - 0s 3ms/step - loss: 1.0973 - accuracy: 0.6174 - val_loss: 0.4619 - val_accuracy: 0.9478\n",
      "Epoch 46/1000\n",
      "85/87 [============================>.] - ETA: 0s - loss: 1.0791 - accuracy: 0.6250\n",
      "Epoch 46: saving model to keypoint_classifier.hdf5\n",
      "87/87 [==============================] - 0s 2ms/step - loss: 1.0763 - accuracy: 0.6265 - val_loss: 0.4582 - val_accuracy: 0.9511\n",
      "Epoch 47/1000\n",
      "86/87 [============================>.] - ETA: 0s - loss: 1.0847 - accuracy: 0.6209\n",
      "Epoch 47: saving model to keypoint_classifier.hdf5\n",
      "87/87 [==============================] - 0s 2ms/step - loss: 1.0844 - accuracy: 0.6211 - val_loss: 0.4538 - val_accuracy: 0.9541\n",
      "Epoch 48/1000\n",
      "87/87 [==============================] - ETA: 0s - loss: 1.0753 - accuracy: 0.6255\n",
      "Epoch 48: saving model to keypoint_classifier.hdf5\n",
      "87/87 [==============================] - 0s 2ms/step - loss: 1.0753 - accuracy: 0.6255 - val_loss: 0.4512 - val_accuracy: 0.9589\n",
      "Epoch 49/1000\n",
      "45/87 [==============>...............] - ETA: 0s - loss: 1.0844 - accuracy: 0.6208\n",
      "Epoch 49: saving model to keypoint_classifier.hdf5\n",
      "87/87 [==============================] - 0s 2ms/step - loss: 1.0885 - accuracy: 0.6177 - val_loss: 0.4420 - val_accuracy: 0.9617\n",
      "Epoch 50/1000\n",
      "45/87 [==============>...............] - ETA: 0s - loss: 1.0574 - accuracy: 0.6359\n",
      "Epoch 50: saving model to keypoint_classifier.hdf5\n",
      "87/87 [==============================] - 0s 2ms/step - loss: 1.0712 - accuracy: 0.6292 - val_loss: 0.4360 - val_accuracy: 0.9589\n",
      "Epoch 51/1000\n",
      "44/87 [==============>...............] - ETA: 0s - loss: 1.0860 - accuracy: 0.6245\n",
      "Epoch 51: saving model to keypoint_classifier.hdf5\n",
      "87/87 [==============================] - 0s 2ms/step - loss: 1.0830 - accuracy: 0.6237 - val_loss: 0.4358 - val_accuracy: 0.9606\n",
      "Epoch 52/1000\n",
      "44/87 [==============>...............] - ETA: 0s - loss: 1.0569 - accuracy: 0.6341\n",
      "Epoch 52: saving model to keypoint_classifier.hdf5\n",
      "87/87 [==============================] - 0s 2ms/step - loss: 1.0578 - accuracy: 0.6348 - val_loss: 0.4328 - val_accuracy: 0.9657\n",
      "Epoch 53/1000\n",
      "45/87 [==============>...............] - ETA: 0s - loss: 1.0756 - accuracy: 0.6337\n",
      "Epoch 53: saving model to keypoint_classifier.hdf5\n",
      "87/87 [==============================] - 0s 2ms/step - loss: 1.0643 - accuracy: 0.6358 - val_loss: 0.4343 - val_accuracy: 0.9611\n",
      "Epoch 54/1000\n",
      "45/87 [==============>...............] - ETA: 0s - loss: 1.0686 - accuracy: 0.6252\n",
      "Epoch 54: saving model to keypoint_classifier.hdf5\n",
      "87/87 [==============================] - 0s 2ms/step - loss: 1.0615 - accuracy: 0.6289 - val_loss: 0.4278 - val_accuracy: 0.9625\n",
      "Epoch 55/1000\n",
      "87/87 [==============================] - ETA: 0s - loss: 1.0826 - accuracy: 0.6233\n",
      "Epoch 55: saving model to keypoint_classifier.hdf5\n",
      "87/87 [==============================] - 0s 2ms/step - loss: 1.0826 - accuracy: 0.6233 - val_loss: 0.4307 - val_accuracy: 0.9668\n",
      "Epoch 56/1000\n",
      "45/87 [==============>...............] - ETA: 0s - loss: 1.0511 - accuracy: 0.6253\n",
      "Epoch 56: saving model to keypoint_classifier.hdf5\n",
      "87/87 [==============================] - 0s 2ms/step - loss: 1.0470 - accuracy: 0.6305 - val_loss: 0.4144 - val_accuracy: 0.9638\n",
      "Epoch 57/1000\n",
      "46/87 [==============>...............] - ETA: 0s - loss: 1.0397 - accuracy: 0.6330\n",
      "Epoch 57: saving model to keypoint_classifier.hdf5\n",
      "87/87 [==============================] - 0s 2ms/step - loss: 1.0468 - accuracy: 0.6314 - val_loss: 0.4117 - val_accuracy: 0.9666\n",
      "Epoch 58/1000\n",
      "44/87 [==============>...............] - ETA: 0s - loss: 1.0381 - accuracy: 0.6445\n",
      "Epoch 58: saving model to keypoint_classifier.hdf5\n",
      "87/87 [==============================] - 0s 2ms/step - loss: 1.0329 - accuracy: 0.6442 - val_loss: 0.3997 - val_accuracy: 0.9666\n",
      "Epoch 59/1000\n",
      "44/87 [==============>...............] - ETA: 0s - loss: 1.0457 - accuracy: 0.6369\n",
      "Epoch 59: saving model to keypoint_classifier.hdf5\n",
      "87/87 [==============================] - 0s 2ms/step - loss: 1.0462 - accuracy: 0.6375 - val_loss: 0.4113 - val_accuracy: 0.9644\n",
      "Epoch 60/1000\n",
      "46/87 [==============>...............] - ETA: 0s - loss: 1.0437 - accuracy: 0.6439\n",
      "Epoch 60: saving model to keypoint_classifier.hdf5\n",
      "87/87 [==============================] - 0s 2ms/step - loss: 1.0392 - accuracy: 0.6428 - val_loss: 0.4098 - val_accuracy: 0.9647\n"
     ]
    },
    {
     "name": "stdout",
     "output_type": "stream",
     "text": [
      "Epoch 61/1000\n",
      "45/87 [==============>...............] - ETA: 0s - loss: 1.0146 - accuracy: 0.6627\n",
      "Epoch 61: saving model to keypoint_classifier.hdf5\n",
      "87/87 [==============================] - 0s 2ms/step - loss: 1.0281 - accuracy: 0.6520 - val_loss: 0.3969 - val_accuracy: 0.9709\n",
      "Epoch 62/1000\n",
      "44/87 [==============>...............] - ETA: 0s - loss: 1.0209 - accuracy: 0.6442\n",
      "Epoch 62: saving model to keypoint_classifier.hdf5\n",
      "87/87 [==============================] - 0s 2ms/step - loss: 1.0221 - accuracy: 0.6453 - val_loss: 0.3933 - val_accuracy: 0.9709\n",
      "Epoch 63/1000\n",
      "86/87 [============================>.] - ETA: 0s - loss: 1.0329 - accuracy: 0.6434\n",
      "Epoch 63: saving model to keypoint_classifier.hdf5\n",
      "87/87 [==============================] - 0s 2ms/step - loss: 1.0333 - accuracy: 0.6434 - val_loss: 0.4054 - val_accuracy: 0.9698\n",
      "Epoch 64/1000\n",
      "46/87 [==============>...............] - ETA: 0s - loss: 1.0200 - accuracy: 0.6461\n",
      "Epoch 64: saving model to keypoint_classifier.hdf5\n",
      "87/87 [==============================] - 0s 2ms/step - loss: 1.0332 - accuracy: 0.6434 - val_loss: 0.3974 - val_accuracy: 0.9725\n",
      "Epoch 65/1000\n",
      "44/87 [==============>...............] - ETA: 0s - loss: 1.0067 - accuracy: 0.6509\n",
      "Epoch 65: saving model to keypoint_classifier.hdf5\n",
      "87/87 [==============================] - 0s 2ms/step - loss: 1.0088 - accuracy: 0.6506 - val_loss: 0.3858 - val_accuracy: 0.9731\n",
      "Epoch 66/1000\n",
      "46/87 [==============>...............] - ETA: 0s - loss: 0.9978 - accuracy: 0.6574\n",
      "Epoch 66: saving model to keypoint_classifier.hdf5\n",
      "87/87 [==============================] - 0s 2ms/step - loss: 1.0120 - accuracy: 0.6506 - val_loss: 0.3892 - val_accuracy: 0.9690\n",
      "Epoch 67/1000\n",
      "46/87 [==============>...............] - ETA: 0s - loss: 1.0356 - accuracy: 0.6393\n",
      "Epoch 67: saving model to keypoint_classifier.hdf5\n",
      "87/87 [==============================] - 0s 2ms/step - loss: 1.0230 - accuracy: 0.6460 - val_loss: 0.3767 - val_accuracy: 0.9690\n",
      "Epoch 68/1000\n",
      "45/87 [==============>...............] - ETA: 0s - loss: 1.0289 - accuracy: 0.6533\n",
      "Epoch 68: saving model to keypoint_classifier.hdf5\n",
      "87/87 [==============================] - 0s 2ms/step - loss: 1.0199 - accuracy: 0.6490 - val_loss: 0.3800 - val_accuracy: 0.9693\n",
      "Epoch 69/1000\n",
      "46/87 [==============>...............] - ETA: 0s - loss: 0.9919 - accuracy: 0.6539\n",
      "Epoch 69: saving model to keypoint_classifier.hdf5\n",
      "87/87 [==============================] - 0s 2ms/step - loss: 1.0011 - accuracy: 0.6510 - val_loss: 0.3850 - val_accuracy: 0.9679\n",
      "Epoch 70/1000\n",
      "82/87 [===========================>..] - ETA: 0s - loss: 1.0117 - accuracy: 0.6517\n",
      "Epoch 70: saving model to keypoint_classifier.hdf5\n",
      "87/87 [==============================] - 0s 2ms/step - loss: 1.0114 - accuracy: 0.6519 - val_loss: 0.3765 - val_accuracy: 0.9704\n",
      "Epoch 71/1000\n",
      "84/87 [===========================>..] - ETA: 0s - loss: 1.0089 - accuracy: 0.6473\n",
      "Epoch 71: saving model to keypoint_classifier.hdf5\n",
      "87/87 [==============================] - 0s 2ms/step - loss: 1.0080 - accuracy: 0.6475 - val_loss: 0.3774 - val_accuracy: 0.9736\n",
      "Epoch 72/1000\n",
      "83/87 [===========================>..] - ETA: 0s - loss: 1.0082 - accuracy: 0.6507\n",
      "Epoch 72: saving model to keypoint_classifier.hdf5\n",
      "87/87 [==============================] - 0s 2ms/step - loss: 1.0075 - accuracy: 0.6516 - val_loss: 0.3705 - val_accuracy: 0.9693\n",
      "Epoch 73/1000\n",
      "55/87 [=================>............] - ETA: 0s - loss: 0.9927 - accuracy: 0.6571\n",
      "Epoch 73: saving model to keypoint_classifier.hdf5\n",
      "87/87 [==============================] - 0s 3ms/step - loss: 0.9859 - accuracy: 0.6616 - val_loss: 0.3645 - val_accuracy: 0.9731\n",
      "Epoch 74/1000\n",
      "85/87 [============================>.] - ETA: 0s - loss: 1.0081 - accuracy: 0.6483\n",
      "Epoch 74: saving model to keypoint_classifier.hdf5\n",
      "87/87 [==============================] - 0s 2ms/step - loss: 1.0091 - accuracy: 0.6483 - val_loss: 0.3680 - val_accuracy: 0.9725\n",
      "Epoch 75/1000\n",
      "45/87 [==============>...............] - ETA: 0s - loss: 0.9852 - accuracy: 0.6646\n",
      "Epoch 75: saving model to keypoint_classifier.hdf5\n",
      "87/87 [==============================] - 0s 2ms/step - loss: 0.9989 - accuracy: 0.6563 - val_loss: 0.3633 - val_accuracy: 0.9717\n",
      "Epoch 76/1000\n",
      "47/87 [===============>..............] - ETA: 0s - loss: 0.9933 - accuracy: 0.6519\n",
      "Epoch 76: saving model to keypoint_classifier.hdf5\n",
      "87/87 [==============================] - 0s 2ms/step - loss: 0.9959 - accuracy: 0.6543 - val_loss: 0.3662 - val_accuracy: 0.9723\n",
      "Epoch 77/1000\n",
      "46/87 [==============>...............] - ETA: 0s - loss: 0.9675 - accuracy: 0.6673\n",
      "Epoch 77: saving model to keypoint_classifier.hdf5\n",
      "87/87 [==============================] - 0s 2ms/step - loss: 0.9891 - accuracy: 0.6604 - val_loss: 0.3640 - val_accuracy: 0.9701\n",
      "Epoch 78/1000\n",
      "45/87 [==============>...............] - ETA: 0s - loss: 1.0002 - accuracy: 0.6493\n",
      "Epoch 78: saving model to keypoint_classifier.hdf5\n",
      "87/87 [==============================] - 0s 2ms/step - loss: 0.9959 - accuracy: 0.6541 - val_loss: 0.3630 - val_accuracy: 0.9747\n",
      "Epoch 79/1000\n",
      "44/87 [==============>...............] - ETA: 0s - loss: 0.9859 - accuracy: 0.6619\n",
      "Epoch 79: saving model to keypoint_classifier.hdf5\n",
      "87/87 [==============================] - 0s 2ms/step - loss: 0.9856 - accuracy: 0.6635 - val_loss: 0.3517 - val_accuracy: 0.9720\n",
      "Epoch 80/1000\n",
      "47/87 [===============>..............] - ETA: 0s - loss: 0.9895 - accuracy: 0.6617\n",
      "Epoch 80: saving model to keypoint_classifier.hdf5\n",
      "87/87 [==============================] - 0s 2ms/step - loss: 0.9843 - accuracy: 0.6571 - val_loss: 0.3505 - val_accuracy: 0.9717\n",
      "Epoch 81/1000\n",
      "87/87 [==============================] - ETA: 0s - loss: 0.9672 - accuracy: 0.6649\n",
      "Epoch 81: saving model to keypoint_classifier.hdf5\n",
      "87/87 [==============================] - 0s 3ms/step - loss: 0.9672 - accuracy: 0.6649 - val_loss: 0.3397 - val_accuracy: 0.9725\n",
      "Epoch 82/1000\n",
      "83/87 [===========================>..] - ETA: 0s - loss: 0.9819 - accuracy: 0.6591\n",
      "Epoch 82: saving model to keypoint_classifier.hdf5\n",
      "87/87 [==============================] - 0s 2ms/step - loss: 0.9809 - accuracy: 0.6588 - val_loss: 0.3497 - val_accuracy: 0.9698\n",
      "Epoch 83/1000\n",
      "77/87 [=========================>....] - ETA: 0s - loss: 0.9803 - accuracy: 0.6623\n",
      "Epoch 83: saving model to keypoint_classifier.hdf5\n",
      "87/87 [==============================] - 0s 2ms/step - loss: 0.9822 - accuracy: 0.6629 - val_loss: 0.3485 - val_accuracy: 0.9796\n",
      "Epoch 84/1000\n",
      "80/87 [==========================>...] - ETA: 0s - loss: 0.9844 - accuracy: 0.6652\n",
      "Epoch 84: saving model to keypoint_classifier.hdf5\n",
      "87/87 [==============================] - 0s 3ms/step - loss: 0.9864 - accuracy: 0.6653 - val_loss: 0.3525 - val_accuracy: 0.9750\n",
      "Epoch 85/1000\n",
      "48/87 [===============>..............] - ETA: 0s - loss: 0.9770 - accuracy: 0.6681\n",
      "Epoch 85: saving model to keypoint_classifier.hdf5\n",
      "87/87 [==============================] - 0s 2ms/step - loss: 0.9709 - accuracy: 0.6677 - val_loss: 0.3327 - val_accuracy: 0.9755\n",
      "Epoch 86/1000\n",
      "44/87 [==============>...............] - ETA: 0s - loss: 0.9588 - accuracy: 0.6651\n",
      "Epoch 86: saving model to keypoint_classifier.hdf5\n",
      "87/87 [==============================] - 0s 2ms/step - loss: 0.9500 - accuracy: 0.6686 - val_loss: 0.3367 - val_accuracy: 0.9761\n",
      "Epoch 87/1000\n",
      "69/87 [======================>.......] - ETA: 0s - loss: 0.9664 - accuracy: 0.6724\n",
      "Epoch 87: saving model to keypoint_classifier.hdf5\n",
      "87/87 [==============================] - 0s 2ms/step - loss: 0.9712 - accuracy: 0.6699 - val_loss: 0.3302 - val_accuracy: 0.9810\n",
      "Epoch 88/1000\n",
      "87/87 [==============================] - ETA: 0s - loss: 0.9583 - accuracy: 0.6686\n",
      "Epoch 88: saving model to keypoint_classifier.hdf5\n",
      "87/87 [==============================] - 0s 2ms/step - loss: 0.9583 - accuracy: 0.6686 - val_loss: 0.3446 - val_accuracy: 0.9734\n",
      "Epoch 89/1000\n",
      "46/87 [==============>...............] - ETA: 0s - loss: 0.9758 - accuracy: 0.6661\n",
      "Epoch 89: saving model to keypoint_classifier.hdf5\n",
      "87/87 [==============================] - 0s 2ms/step - loss: 0.9793 - accuracy: 0.6670 - val_loss: 0.3478 - val_accuracy: 0.9747\n",
      "Epoch 90/1000\n",
      "71/87 [=======================>......] - ETA: 0s - loss: 0.9637 - accuracy: 0.6666\n",
      "Epoch 90: saving model to keypoint_classifier.hdf5\n",
      "87/87 [==============================] - 0s 3ms/step - loss: 0.9570 - accuracy: 0.6679 - val_loss: 0.3343 - val_accuracy: 0.9750\n"
     ]
    },
    {
     "name": "stdout",
     "output_type": "stream",
     "text": [
      "Epoch 91/1000\n",
      "45/87 [==============>...............] - ETA: 0s - loss: 0.9345 - accuracy: 0.6743\n",
      "Epoch 91: saving model to keypoint_classifier.hdf5\n",
      "87/87 [==============================] - 0s 2ms/step - loss: 0.9553 - accuracy: 0.6698 - val_loss: 0.3349 - val_accuracy: 0.9744\n",
      "Epoch 92/1000\n",
      "46/87 [==============>...............] - ETA: 0s - loss: 0.9424 - accuracy: 0.6756\n",
      "Epoch 92: saving model to keypoint_classifier.hdf5\n",
      "87/87 [==============================] - 0s 2ms/step - loss: 0.9506 - accuracy: 0.6721 - val_loss: 0.3326 - val_accuracy: 0.9753\n",
      "Epoch 93/1000\n",
      "49/87 [===============>..............] - ETA: 0s - loss: 0.9625 - accuracy: 0.6712\n",
      "Epoch 93: saving model to keypoint_classifier.hdf5\n",
      "87/87 [==============================] - 0s 2ms/step - loss: 0.9482 - accuracy: 0.6774 - val_loss: 0.3304 - val_accuracy: 0.9766\n",
      "Epoch 94/1000\n",
      "46/87 [==============>...............] - ETA: 0s - loss: 0.9832 - accuracy: 0.6564\n",
      "Epoch 94: saving model to keypoint_classifier.hdf5\n",
      "87/87 [==============================] - 0s 2ms/step - loss: 0.9702 - accuracy: 0.6647 - val_loss: 0.3346 - val_accuracy: 0.9744\n",
      "Epoch 95/1000\n",
      "63/87 [====================>.........] - ETA: 0s - loss: 0.9570 - accuracy: 0.6691\n",
      "Epoch 95: saving model to keypoint_classifier.hdf5\n",
      "87/87 [==============================] - 0s 3ms/step - loss: 0.9566 - accuracy: 0.6709 - val_loss: 0.3317 - val_accuracy: 0.9793\n",
      "Epoch 96/1000\n",
      "46/87 [==============>...............] - ETA: 0s - loss: 0.9392 - accuracy: 0.6797\n",
      "Epoch 96: saving model to keypoint_classifier.hdf5\n",
      "87/87 [==============================] - 0s 2ms/step - loss: 0.9390 - accuracy: 0.6820 - val_loss: 0.3246 - val_accuracy: 0.9725\n",
      "Epoch 97/1000\n",
      "45/87 [==============>...............] - ETA: 0s - loss: 0.9492 - accuracy: 0.6741\n",
      "Epoch 97: saving model to keypoint_classifier.hdf5\n",
      "87/87 [==============================] - 0s 2ms/step - loss: 0.9389 - accuracy: 0.6814 - val_loss: 0.3139 - val_accuracy: 0.9747\n",
      "Epoch 98/1000\n",
      "46/87 [==============>...............] - ETA: 0s - loss: 0.9618 - accuracy: 0.6646\n",
      "Epoch 98: saving model to keypoint_classifier.hdf5\n",
      "87/87 [==============================] - 0s 2ms/step - loss: 0.9652 - accuracy: 0.6657 - val_loss: 0.3284 - val_accuracy: 0.9763\n",
      "Epoch 99/1000\n",
      "48/87 [===============>..............] - ETA: 0s - loss: 0.9371 - accuracy: 0.6761\n",
      "Epoch 99: saving model to keypoint_classifier.hdf5\n",
      "87/87 [==============================] - 0s 2ms/step - loss: 0.9325 - accuracy: 0.6797 - val_loss: 0.3172 - val_accuracy: 0.9734\n",
      "Epoch 100/1000\n",
      "46/87 [==============>...............] - ETA: 0s - loss: 0.9320 - accuracy: 0.6731\n",
      "Epoch 100: saving model to keypoint_classifier.hdf5\n",
      "87/87 [==============================] - 0s 2ms/step - loss: 0.9477 - accuracy: 0.6766 - val_loss: 0.3177 - val_accuracy: 0.9772\n",
      "Epoch 101/1000\n",
      "47/87 [===============>..............] - ETA: 0s - loss: 0.9375 - accuracy: 0.6852\n",
      "Epoch 101: saving model to keypoint_classifier.hdf5\n",
      "87/87 [==============================] - 0s 2ms/step - loss: 0.9287 - accuracy: 0.6839 - val_loss: 0.3109 - val_accuracy: 0.9780\n",
      "Epoch 102/1000\n",
      "47/87 [===============>..............] - ETA: 0s - loss: 0.9416 - accuracy: 0.6774\n",
      "Epoch 102: saving model to keypoint_classifier.hdf5\n",
      "87/87 [==============================] - 0s 2ms/step - loss: 0.9283 - accuracy: 0.6799 - val_loss: 0.3146 - val_accuracy: 0.9725\n",
      "Epoch 103/1000\n",
      "76/87 [=========================>....] - ETA: 0s - loss: 0.9410 - accuracy: 0.6786\n",
      "Epoch 103: saving model to keypoint_classifier.hdf5\n",
      "87/87 [==============================] - 0s 2ms/step - loss: 0.9424 - accuracy: 0.6793 - val_loss: 0.3227 - val_accuracy: 0.9761\n",
      "Epoch 104/1000\n",
      "46/87 [==============>...............] - ETA: 0s - loss: 0.9412 - accuracy: 0.6776\n",
      "Epoch 104: saving model to keypoint_classifier.hdf5\n",
      "87/87 [==============================] - 0s 2ms/step - loss: 0.9408 - accuracy: 0.6747 - val_loss: 0.3120 - val_accuracy: 0.9731\n",
      "Epoch 105/1000\n",
      "46/87 [==============>...............] - ETA: 0s - loss: 0.9539 - accuracy: 0.6736\n",
      "Epoch 105: saving model to keypoint_classifier.hdf5\n",
      "87/87 [==============================] - 0s 2ms/step - loss: 0.9452 - accuracy: 0.6757 - val_loss: 0.3093 - val_accuracy: 0.9815\n",
      "Epoch 106/1000\n",
      "85/87 [============================>.] - ETA: 0s - loss: 0.9323 - accuracy: 0.6783\n",
      "Epoch 106: saving model to keypoint_classifier.hdf5\n",
      "87/87 [==============================] - 0s 2ms/step - loss: 0.9328 - accuracy: 0.6785 - val_loss: 0.3169 - val_accuracy: 0.9761\n",
      "Epoch 107/1000\n",
      "87/87 [==============================] - ETA: 0s - loss: 0.9313 - accuracy: 0.6800\n",
      "Epoch 107: saving model to keypoint_classifier.hdf5\n",
      "87/87 [==============================] - 0s 2ms/step - loss: 0.9313 - accuracy: 0.6800 - val_loss: 0.3107 - val_accuracy: 0.9761\n",
      "Epoch 108/1000\n",
      "87/87 [==============================] - ETA: 0s - loss: 0.9500 - accuracy: 0.6758\n",
      "Epoch 108: saving model to keypoint_classifier.hdf5\n",
      "87/87 [==============================] - 0s 2ms/step - loss: 0.9500 - accuracy: 0.6758 - val_loss: 0.3068 - val_accuracy: 0.9736\n",
      "Epoch 109/1000\n",
      "78/87 [=========================>....] - ETA: 0s - loss: 0.9489 - accuracy: 0.6783\n",
      "Epoch 109: saving model to keypoint_classifier.hdf5\n",
      "87/87 [==============================] - 0s 2ms/step - loss: 0.9471 - accuracy: 0.6807 - val_loss: 0.3049 - val_accuracy: 0.9774\n",
      "Epoch 110/1000\n",
      "43/87 [=============>................] - ETA: 0s - loss: 0.9044 - accuracy: 0.6951\n",
      "Epoch 110: saving model to keypoint_classifier.hdf5\n",
      "87/87 [==============================] - 0s 2ms/step - loss: 0.9202 - accuracy: 0.6852 - val_loss: 0.3052 - val_accuracy: 0.9747\n",
      "Epoch 111/1000\n",
      "48/87 [===============>..............] - ETA: 0s - loss: 0.9021 - accuracy: 0.6909\n",
      "Epoch 111: saving model to keypoint_classifier.hdf5\n",
      "87/87 [==============================] - 0s 2ms/step - loss: 0.9165 - accuracy: 0.6836 - val_loss: 0.3076 - val_accuracy: 0.9802\n",
      "Epoch 112/1000\n",
      "49/87 [===============>..............] - ETA: 0s - loss: 0.9301 - accuracy: 0.6867\n",
      "Epoch 112: saving model to keypoint_classifier.hdf5\n",
      "87/87 [==============================] - 0s 2ms/step - loss: 0.9310 - accuracy: 0.6839 - val_loss: 0.3049 - val_accuracy: 0.9774\n",
      "Epoch 113/1000\n",
      "67/87 [======================>.......] - ETA: 0s - loss: 0.9318 - accuracy: 0.6814\n",
      "Epoch 113: saving model to keypoint_classifier.hdf5\n",
      "87/87 [==============================] - 0s 2ms/step - loss: 0.9341 - accuracy: 0.6794 - val_loss: 0.3175 - val_accuracy: 0.9671\n",
      "Epoch 114/1000\n",
      "48/87 [===============>..............] - ETA: 0s - loss: 0.9328 - accuracy: 0.6808\n",
      "Epoch 114: saving model to keypoint_classifier.hdf5\n",
      "87/87 [==============================] - 0s 2ms/step - loss: 0.9285 - accuracy: 0.6836 - val_loss: 0.3042 - val_accuracy: 0.9744\n",
      "Epoch 115/1000\n",
      "87/87 [==============================] - ETA: 0s - loss: 0.9078 - accuracy: 0.6859\n",
      "Epoch 115: saving model to keypoint_classifier.hdf5\n",
      "87/87 [==============================] - 0s 2ms/step - loss: 0.9078 - accuracy: 0.6859 - val_loss: 0.3018 - val_accuracy: 0.9769\n",
      "Epoch 116/1000\n",
      "85/87 [============================>.] - ETA: 0s - loss: 0.9212 - accuracy: 0.6824\n",
      "Epoch 116: saving model to keypoint_classifier.hdf5\n",
      "87/87 [==============================] - 0s 2ms/step - loss: 0.9197 - accuracy: 0.6824 - val_loss: 0.2988 - val_accuracy: 0.9791\n",
      "Epoch 117/1000\n",
      "44/87 [==============>...............] - ETA: 0s - loss: 0.9224 - accuracy: 0.6816\n",
      "Epoch 117: saving model to keypoint_classifier.hdf5\n",
      "87/87 [==============================] - 0s 2ms/step - loss: 0.9239 - accuracy: 0.6852 - val_loss: 0.3037 - val_accuracy: 0.9758\n",
      "Epoch 118/1000\n",
      "54/87 [=================>............] - ETA: 0s - loss: 0.9281 - accuracy: 0.6739\n",
      "Epoch 118: saving model to keypoint_classifier.hdf5\n",
      "87/87 [==============================] - 0s 3ms/step - loss: 0.9183 - accuracy: 0.6810 - val_loss: 0.2997 - val_accuracy: 0.9772\n",
      "Epoch 119/1000\n",
      "87/87 [==============================] - ETA: 0s - loss: 0.9301 - accuracy: 0.6815\n",
      "Epoch 119: saving model to keypoint_classifier.hdf5\n",
      "87/87 [==============================] - 0s 2ms/step - loss: 0.9301 - accuracy: 0.6815 - val_loss: 0.2947 - val_accuracy: 0.9810\n",
      "Epoch 120/1000\n",
      "47/87 [===============>..............] - ETA: 0s - loss: 0.9018 - accuracy: 0.6935\n",
      "Epoch 120: saving model to keypoint_classifier.hdf5\n"
     ]
    },
    {
     "name": "stdout",
     "output_type": "stream",
     "text": [
      "87/87 [==============================] - 0s 2ms/step - loss: 0.9015 - accuracy: 0.6896 - val_loss: 0.2973 - val_accuracy: 0.9780\n",
      "Epoch 121/1000\n",
      "44/87 [==============>...............] - ETA: 0s - loss: 0.9164 - accuracy: 0.6875\n",
      "Epoch 121: saving model to keypoint_classifier.hdf5\n",
      "87/87 [==============================] - 0s 2ms/step - loss: 0.9196 - accuracy: 0.6876 - val_loss: 0.2958 - val_accuracy: 0.9793\n",
      "Epoch 122/1000\n",
      "43/87 [=============>................] - ETA: 0s - loss: 0.8996 - accuracy: 0.6988\n",
      "Epoch 122: saving model to keypoint_classifier.hdf5\n",
      "87/87 [==============================] - 0s 2ms/step - loss: 0.8985 - accuracy: 0.6940 - val_loss: 0.2986 - val_accuracy: 0.9755\n",
      "Epoch 123/1000\n",
      "85/87 [============================>.] - ETA: 0s - loss: 0.9157 - accuracy: 0.6863\n",
      "Epoch 123: saving model to keypoint_classifier.hdf5\n",
      "87/87 [==============================] - 0s 2ms/step - loss: 0.9154 - accuracy: 0.6868 - val_loss: 0.3002 - val_accuracy: 0.9731\n",
      "Epoch 124/1000\n",
      "85/87 [============================>.] - ETA: 0s - loss: 0.9195 - accuracy: 0.6851\n",
      "Epoch 124: saving model to keypoint_classifier.hdf5\n",
      "87/87 [==============================] - 0s 2ms/step - loss: 0.9186 - accuracy: 0.6859 - val_loss: 0.2893 - val_accuracy: 0.9755\n",
      "Epoch 125/1000\n",
      "43/87 [=============>................] - ETA: 0s - loss: 0.8956 - accuracy: 0.6917\n",
      "Epoch 125: saving model to keypoint_classifier.hdf5\n",
      "87/87 [==============================] - 0s 2ms/step - loss: 0.8993 - accuracy: 0.6907 - val_loss: 0.2935 - val_accuracy: 0.9715\n",
      "Epoch 126/1000\n",
      "86/87 [============================>.] - ETA: 0s - loss: 0.9210 - accuracy: 0.6827\n",
      "Epoch 126: saving model to keypoint_classifier.hdf5\n",
      "87/87 [==============================] - 0s 2ms/step - loss: 0.9206 - accuracy: 0.6827 - val_loss: 0.3047 - val_accuracy: 0.9704\n",
      "Epoch 127/1000\n",
      "46/87 [==============>...............] - ETA: 0s - loss: 0.9094 - accuracy: 0.6900\n",
      "Epoch 127: saving model to keypoint_classifier.hdf5\n",
      "87/87 [==============================] - 0s 2ms/step - loss: 0.9043 - accuracy: 0.6916 - val_loss: 0.2861 - val_accuracy: 0.9812\n",
      "Epoch 128/1000\n",
      "84/87 [===========================>..] - ETA: 0s - loss: 0.9071 - accuracy: 0.6889\n",
      "Epoch 128: saving model to keypoint_classifier.hdf5\n",
      "87/87 [==============================] - 0s 2ms/step - loss: 0.9062 - accuracy: 0.6894 - val_loss: 0.3007 - val_accuracy: 0.9734\n",
      "Epoch 129/1000\n",
      "82/87 [===========================>..] - ETA: 0s - loss: 0.9061 - accuracy: 0.6918\n",
      "Epoch 129: saving model to keypoint_classifier.hdf5\n",
      "87/87 [==============================] - 0s 2ms/step - loss: 0.9065 - accuracy: 0.6905 - val_loss: 0.2883 - val_accuracy: 0.9793\n",
      "Epoch 130/1000\n",
      "79/87 [==========================>...] - ETA: 0s - loss: 0.8941 - accuracy: 0.6967\n",
      "Epoch 130: saving model to keypoint_classifier.hdf5\n",
      "87/87 [==============================] - 0s 2ms/step - loss: 0.8945 - accuracy: 0.6963 - val_loss: 0.2810 - val_accuracy: 0.9782\n",
      "Epoch 131/1000\n",
      "85/87 [============================>.] - ETA: 0s - loss: 0.8940 - accuracy: 0.6995\n",
      "Epoch 131: saving model to keypoint_classifier.hdf5\n",
      "87/87 [==============================] - 0s 2ms/step - loss: 0.8951 - accuracy: 0.6992 - val_loss: 0.2782 - val_accuracy: 0.9812\n",
      "Epoch 132/1000\n",
      "45/87 [==============>...............] - ETA: 0s - loss: 0.9232 - accuracy: 0.6875\n",
      "Epoch 132: saving model to keypoint_classifier.hdf5\n",
      "87/87 [==============================] - 0s 2ms/step - loss: 0.9181 - accuracy: 0.6899 - val_loss: 0.2878 - val_accuracy: 0.9777\n",
      "Epoch 133/1000\n",
      "48/87 [===============>..............] - ETA: 0s - loss: 0.8932 - accuracy: 0.6930\n",
      "Epoch 133: saving model to keypoint_classifier.hdf5\n",
      "87/87 [==============================] - 0s 2ms/step - loss: 0.8991 - accuracy: 0.6938 - val_loss: 0.2959 - val_accuracy: 0.9685\n",
      "Epoch 134/1000\n",
      "44/87 [==============>...............] - ETA: 0s - loss: 0.9119 - accuracy: 0.6974\n",
      "Epoch 134: saving model to keypoint_classifier.hdf5\n",
      "87/87 [==============================] - 0s 2ms/step - loss: 0.8985 - accuracy: 0.6946 - val_loss: 0.2827 - val_accuracy: 0.9753\n",
      "Epoch 135/1000\n",
      "48/87 [===============>..............] - ETA: 0s - loss: 0.8924 - accuracy: 0.6930\n",
      "Epoch 135: saving model to keypoint_classifier.hdf5\n",
      "87/87 [==============================] - 0s 2ms/step - loss: 0.9003 - accuracy: 0.6895 - val_loss: 0.2920 - val_accuracy: 0.9796\n",
      "Epoch 136/1000\n",
      "46/87 [==============>...............] - ETA: 0s - loss: 0.8854 - accuracy: 0.6931\n",
      "Epoch 136: saving model to keypoint_classifier.hdf5\n",
      "87/87 [==============================] - 0s 2ms/step - loss: 0.8782 - accuracy: 0.6962 - val_loss: 0.2937 - val_accuracy: 0.9695\n",
      "Epoch 137/1000\n",
      "44/87 [==============>...............] - ETA: 0s - loss: 0.9002 - accuracy: 0.6992\n",
      "Epoch 137: saving model to keypoint_classifier.hdf5\n",
      "87/87 [==============================] - 0s 2ms/step - loss: 0.8819 - accuracy: 0.7008 - val_loss: 0.2859 - val_accuracy: 0.9715\n",
      "Epoch 138/1000\n",
      "45/87 [==============>...............] - ETA: 0s - loss: 0.8561 - accuracy: 0.7047\n",
      "Epoch 138: saving model to keypoint_classifier.hdf5\n",
      "87/87 [==============================] - 0s 2ms/step - loss: 0.8744 - accuracy: 0.6998 - val_loss: 0.2726 - val_accuracy: 0.9796\n",
      "Epoch 139/1000\n",
      "76/87 [=========================>....] - ETA: 0s - loss: 0.8848 - accuracy: 0.6975\n",
      "Epoch 139: saving model to keypoint_classifier.hdf5\n",
      "87/87 [==============================] - 0s 2ms/step - loss: 0.8822 - accuracy: 0.6998 - val_loss: 0.2889 - val_accuracy: 0.9739\n",
      "Epoch 140/1000\n",
      "81/87 [==========================>...] - ETA: 0s - loss: 0.8932 - accuracy: 0.6907\n",
      "Epoch 140: saving model to keypoint_classifier.hdf5\n",
      "87/87 [==============================] - 0s 2ms/step - loss: 0.8942 - accuracy: 0.6895 - val_loss: 0.2876 - val_accuracy: 0.9780\n",
      "Epoch 141/1000\n",
      "79/87 [==========================>...] - ETA: 0s - loss: 0.8893 - accuracy: 0.6985\n",
      "Epoch 141: saving model to keypoint_classifier.hdf5\n",
      "87/87 [==============================] - 0s 2ms/step - loss: 0.8923 - accuracy: 0.6965 - val_loss: 0.2825 - val_accuracy: 0.9782\n",
      "Epoch 142/1000\n",
      "83/87 [===========================>..] - ETA: 0s - loss: 0.8899 - accuracy: 0.6970\n",
      "Epoch 142: saving model to keypoint_classifier.hdf5\n",
      "87/87 [==============================] - 0s 2ms/step - loss: 0.8910 - accuracy: 0.6969 - val_loss: 0.2867 - val_accuracy: 0.9736\n",
      "Epoch 143/1000\n",
      "45/87 [==============>...............] - ETA: 0s - loss: 0.8904 - accuracy: 0.6964\n",
      "Epoch 143: saving model to keypoint_classifier.hdf5\n",
      "87/87 [==============================] - 0s 2ms/step - loss: 0.8774 - accuracy: 0.6993 - val_loss: 0.2797 - val_accuracy: 0.9782\n",
      "Epoch 144/1000\n",
      "46/87 [==============>...............] - ETA: 0s - loss: 0.8894 - accuracy: 0.6977\n",
      "Epoch 144: saving model to keypoint_classifier.hdf5\n",
      "87/87 [==============================] - 0s 2ms/step - loss: 0.8890 - accuracy: 0.6946 - val_loss: 0.2855 - val_accuracy: 0.9763\n",
      "Epoch 145/1000\n",
      "45/87 [==============>...............] - ETA: 0s - loss: 0.8929 - accuracy: 0.6957\n",
      "Epoch 145: saving model to keypoint_classifier.hdf5\n",
      "87/87 [==============================] - 0s 2ms/step - loss: 0.8946 - accuracy: 0.6941 - val_loss: 0.2796 - val_accuracy: 0.9802\n",
      "Epoch 146/1000\n",
      "86/87 [============================>.] - ETA: 0s - loss: 0.8862 - accuracy: 0.6998\n",
      "Epoch 146: saving model to keypoint_classifier.hdf5\n",
      "87/87 [==============================] - 0s 2ms/step - loss: 0.8861 - accuracy: 0.6998 - val_loss: 0.2870 - val_accuracy: 0.9709\n",
      "Epoch 147/1000\n",
      "44/87 [==============>...............] - ETA: 0s - loss: 0.9101 - accuracy: 0.6914\n",
      "Epoch 147: saving model to keypoint_classifier.hdf5\n",
      "87/87 [==============================] - 0s 2ms/step - loss: 0.8797 - accuracy: 0.7012 - val_loss: 0.2685 - val_accuracy: 0.9763\n",
      "Epoch 148/1000\n",
      "44/87 [==============>...............] - ETA: 0s - loss: 0.8921 - accuracy: 0.6941\n",
      "Epoch 148: saving model to keypoint_classifier.hdf5\n",
      "87/87 [==============================] - 0s 2ms/step - loss: 0.8792 - accuracy: 0.6996 - val_loss: 0.2789 - val_accuracy: 0.9753\n",
      "Epoch 149/1000\n",
      "44/87 [==============>...............] - ETA: 0s - loss: 0.8763 - accuracy: 0.6992\n",
      "Epoch 149: saving model to keypoint_classifier.hdf5\n",
      "87/87 [==============================] - 0s 2ms/step - loss: 0.8784 - accuracy: 0.7011 - val_loss: 0.2741 - val_accuracy: 0.9763\n"
     ]
    },
    {
     "name": "stdout",
     "output_type": "stream",
     "text": [
      "Epoch 150/1000\n",
      "45/87 [==============>...............] - ETA: 0s - loss: 0.8831 - accuracy: 0.6997\n",
      "Epoch 150: saving model to keypoint_classifier.hdf5\n",
      "87/87 [==============================] - 0s 2ms/step - loss: 0.8911 - accuracy: 0.6986 - val_loss: 0.2839 - val_accuracy: 0.9777\n",
      "Epoch 151/1000\n",
      "45/87 [==============>...............] - ETA: 0s - loss: 0.8977 - accuracy: 0.6950\n",
      "Epoch 151: saving model to keypoint_classifier.hdf5\n",
      "87/87 [==============================] - 0s 2ms/step - loss: 0.8810 - accuracy: 0.6987 - val_loss: 0.2808 - val_accuracy: 0.9772\n",
      "Epoch 152/1000\n",
      "87/87 [==============================] - ETA: 0s - loss: 0.8563 - accuracy: 0.7100\n",
      "Epoch 152: saving model to keypoint_classifier.hdf5\n",
      "87/87 [==============================] - 0s 2ms/step - loss: 0.8563 - accuracy: 0.7100 - val_loss: 0.2692 - val_accuracy: 0.9802\n",
      "Epoch 153/1000\n",
      "46/87 [==============>...............] - ETA: 0s - loss: 0.8628 - accuracy: 0.7074\n",
      "Epoch 153: saving model to keypoint_classifier.hdf5\n",
      "87/87 [==============================] - 0s 2ms/step - loss: 0.8597 - accuracy: 0.7080 - val_loss: 0.2710 - val_accuracy: 0.9807\n",
      "Epoch 154/1000\n",
      "44/87 [==============>...............] - ETA: 0s - loss: 0.8784 - accuracy: 0.6990\n",
      "Epoch 154: saving model to keypoint_classifier.hdf5\n",
      "87/87 [==============================] - 0s 2ms/step - loss: 0.8725 - accuracy: 0.6973 - val_loss: 0.2745 - val_accuracy: 0.9755\n",
      "Epoch 155/1000\n",
      "44/87 [==============>...............] - ETA: 0s - loss: 0.8693 - accuracy: 0.7015\n",
      "Epoch 155: saving model to keypoint_classifier.hdf5\n",
      "87/87 [==============================] - 0s 2ms/step - loss: 0.8822 - accuracy: 0.6959 - val_loss: 0.2857 - val_accuracy: 0.9706\n",
      "Epoch 156/1000\n",
      "46/87 [==============>...............] - ETA: 0s - loss: 0.8767 - accuracy: 0.7014\n",
      "Epoch 156: saving model to keypoint_classifier.hdf5\n",
      "87/87 [==============================] - 0s 2ms/step - loss: 0.8749 - accuracy: 0.6998 - val_loss: 0.2780 - val_accuracy: 0.9799\n",
      "Epoch 157/1000\n",
      "44/87 [==============>...............] - ETA: 0s - loss: 0.8712 - accuracy: 0.7076\n",
      "Epoch 157: saving model to keypoint_classifier.hdf5\n",
      "87/87 [==============================] - 0s 2ms/step - loss: 0.8683 - accuracy: 0.7037 - val_loss: 0.2640 - val_accuracy: 0.9810\n",
      "Epoch 158/1000\n",
      "44/87 [==============>...............] - ETA: 0s - loss: 0.8921 - accuracy: 0.6937\n",
      "Epoch 158: saving model to keypoint_classifier.hdf5\n",
      "87/87 [==============================] - 0s 2ms/step - loss: 0.8920 - accuracy: 0.6955 - val_loss: 0.2808 - val_accuracy: 0.9734\n",
      "Epoch 159/1000\n",
      "46/87 [==============>...............] - ETA: 0s - loss: 0.8835 - accuracy: 0.6977\n",
      "Epoch 159: saving model to keypoint_classifier.hdf5\n",
      "87/87 [==============================] - 0s 2ms/step - loss: 0.8843 - accuracy: 0.6998 - val_loss: 0.2733 - val_accuracy: 0.9761\n",
      "Epoch 160/1000\n",
      "45/87 [==============>...............] - ETA: 0s - loss: 0.8778 - accuracy: 0.7035\n",
      "Epoch 160: saving model to keypoint_classifier.hdf5\n",
      "87/87 [==============================] - 0s 2ms/step - loss: 0.8791 - accuracy: 0.7035 - val_loss: 0.2644 - val_accuracy: 0.9753\n",
      "Epoch 161/1000\n",
      "45/87 [==============>...............] - ETA: 0s - loss: 0.8533 - accuracy: 0.7123\n",
      "Epoch 161: saving model to keypoint_classifier.hdf5\n",
      "87/87 [==============================] - 0s 2ms/step - loss: 0.8595 - accuracy: 0.7076 - val_loss: 0.2675 - val_accuracy: 0.9799\n",
      "Epoch 162/1000\n",
      "45/87 [==============>...............] - ETA: 0s - loss: 0.8734 - accuracy: 0.7085\n",
      "Epoch 162: saving model to keypoint_classifier.hdf5\n",
      "87/87 [==============================] - 0s 2ms/step - loss: 0.8663 - accuracy: 0.7116 - val_loss: 0.2814 - val_accuracy: 0.9695\n",
      "Epoch 163/1000\n",
      "83/87 [===========================>..] - ETA: 0s - loss: 0.8591 - accuracy: 0.7101\n",
      "Epoch 163: saving model to keypoint_classifier.hdf5\n",
      "87/87 [==============================] - 0s 2ms/step - loss: 0.8587 - accuracy: 0.7104 - val_loss: 0.2660 - val_accuracy: 0.9772\n",
      "Epoch 164/1000\n",
      "80/87 [==========================>...] - ETA: 0s - loss: 0.8657 - accuracy: 0.7063\n",
      "Epoch 164: saving model to keypoint_classifier.hdf5\n",
      "87/87 [==============================] - 0s 2ms/step - loss: 0.8661 - accuracy: 0.7059 - val_loss: 0.2681 - val_accuracy: 0.9777\n",
      "Epoch 165/1000\n",
      "84/87 [===========================>..] - ETA: 0s - loss: 0.8521 - accuracy: 0.7122\n",
      "Epoch 165: saving model to keypoint_classifier.hdf5\n",
      "87/87 [==============================] - 0s 2ms/step - loss: 0.8553 - accuracy: 0.7108 - val_loss: 0.2643 - val_accuracy: 0.9785\n",
      "Epoch 166/1000\n",
      "82/87 [===========================>..] - ETA: 0s - loss: 0.8622 - accuracy: 0.7021\n",
      "Epoch 166: saving model to keypoint_classifier.hdf5\n",
      "87/87 [==============================] - 0s 2ms/step - loss: 0.8647 - accuracy: 0.7017 - val_loss: 0.2638 - val_accuracy: 0.9780\n",
      "Epoch 167/1000\n",
      "84/87 [===========================>..] - ETA: 0s - loss: 0.8681 - accuracy: 0.7092\n",
      "Epoch 167: saving model to keypoint_classifier.hdf5\n",
      "87/87 [==============================] - 0s 2ms/step - loss: 0.8681 - accuracy: 0.7086 - val_loss: 0.2802 - val_accuracy: 0.9725\n",
      "Epoch 168/1000\n",
      "47/87 [===============>..............] - ETA: 0s - loss: 0.8544 - accuracy: 0.7058\n",
      "Epoch 168: saving model to keypoint_classifier.hdf5\n",
      "87/87 [==============================] - 0s 2ms/step - loss: 0.8599 - accuracy: 0.7063 - val_loss: 0.2748 - val_accuracy: 0.9755\n",
      "Epoch 169/1000\n",
      "83/87 [===========================>..] - ETA: 0s - loss: 0.8774 - accuracy: 0.7022\n",
      "Epoch 169: saving model to keypoint_classifier.hdf5\n",
      "87/87 [==============================] - 0s 2ms/step - loss: 0.8745 - accuracy: 0.7038 - val_loss: 0.2695 - val_accuracy: 0.9725\n",
      "Epoch 170/1000\n",
      "44/87 [==============>...............] - ETA: 0s - loss: 0.8715 - accuracy: 0.7065\n",
      "Epoch 170: saving model to keypoint_classifier.hdf5\n",
      "87/87 [==============================] - 0s 2ms/step - loss: 0.8759 - accuracy: 0.7020 - val_loss: 0.2755 - val_accuracy: 0.9769\n",
      "Epoch 171/1000\n",
      "46/87 [==============>...............] - ETA: 0s - loss: 0.8454 - accuracy: 0.7089\n",
      "Epoch 171: saving model to keypoint_classifier.hdf5\n",
      "87/87 [==============================] - 0s 2ms/step - loss: 0.8454 - accuracy: 0.7088 - val_loss: 0.2537 - val_accuracy: 0.9791\n",
      "Epoch 172/1000\n",
      "45/87 [==============>...............] - ETA: 0s - loss: 0.8259 - accuracy: 0.7236\n",
      "Epoch 172: saving model to keypoint_classifier.hdf5\n",
      "87/87 [==============================] - 0s 2ms/step - loss: 0.8422 - accuracy: 0.7182 - val_loss: 0.2634 - val_accuracy: 0.9766\n",
      "Epoch 173/1000\n",
      "46/87 [==============>...............] - ETA: 0s - loss: 0.8460 - accuracy: 0.7121\n",
      "Epoch 173: saving model to keypoint_classifier.hdf5\n",
      "87/87 [==============================] - 0s 2ms/step - loss: 0.8422 - accuracy: 0.7150 - val_loss: 0.2658 - val_accuracy: 0.9772\n",
      "Epoch 174/1000\n",
      "46/87 [==============>...............] - ETA: 0s - loss: 0.8603 - accuracy: 0.7167\n",
      "Epoch 174: saving model to keypoint_classifier.hdf5\n",
      "87/87 [==============================] - 0s 2ms/step - loss: 0.8718 - accuracy: 0.7069 - val_loss: 0.2665 - val_accuracy: 0.9758\n",
      "Epoch 175/1000\n",
      "47/87 [===============>..............] - ETA: 0s - loss: 0.8580 - accuracy: 0.7086\n",
      "Epoch 175: saving model to keypoint_classifier.hdf5\n",
      "87/87 [==============================] - 0s 2ms/step - loss: 0.8542 - accuracy: 0.7082 - val_loss: 0.2643 - val_accuracy: 0.9799\n",
      "Epoch 176/1000\n",
      "45/87 [==============>...............] - ETA: 0s - loss: 0.8503 - accuracy: 0.7083\n",
      "Epoch 176: saving model to keypoint_classifier.hdf5\n",
      "87/87 [==============================] - 0s 2ms/step - loss: 0.8698 - accuracy: 0.7066 - val_loss: 0.2721 - val_accuracy: 0.9763\n",
      "Epoch 177/1000\n",
      "85/87 [============================>.] - ETA: 0s - loss: 0.8584 - accuracy: 0.7108\n",
      "Epoch 177: saving model to keypoint_classifier.hdf5\n",
      "87/87 [==============================] - 0s 2ms/step - loss: 0.8577 - accuracy: 0.7109 - val_loss: 0.2611 - val_accuracy: 0.9766\n",
      "Epoch 178/1000\n",
      "83/87 [===========================>..] - ETA: 0s - loss: 0.8663 - accuracy: 0.7043\n",
      "Epoch 178: saving model to keypoint_classifier.hdf5\n",
      "87/87 [==============================] - 0s 2ms/step - loss: 0.8655 - accuracy: 0.7035 - val_loss: 0.2648 - val_accuracy: 0.9758\n",
      "Epoch 179/1000\n",
      "78/87 [=========================>....] - ETA: 0s - loss: 0.8613 - accuracy: 0.7058\n",
      "Epoch 179: saving model to keypoint_classifier.hdf5\n"
     ]
    },
    {
     "name": "stdout",
     "output_type": "stream",
     "text": [
      "87/87 [==============================] - 0s 2ms/step - loss: 0.8589 - accuracy: 0.7072 - val_loss: 0.2692 - val_accuracy: 0.9774\n",
      "Epoch 180/1000\n",
      "45/87 [==============>...............] - ETA: 0s - loss: 0.8603 - accuracy: 0.6988\n",
      "Epoch 180: saving model to keypoint_classifier.hdf5\n",
      "87/87 [==============================] - 0s 2ms/step - loss: 0.8609 - accuracy: 0.7039 - val_loss: 0.2605 - val_accuracy: 0.9782\n",
      "Epoch 181/1000\n",
      "44/87 [==============>...............] - ETA: 0s - loss: 0.8596 - accuracy: 0.7065\n",
      "Epoch 181: saving model to keypoint_classifier.hdf5\n",
      "87/87 [==============================] - 0s 2ms/step - loss: 0.8607 - accuracy: 0.7076 - val_loss: 0.2552 - val_accuracy: 0.9799\n",
      "Epoch 182/1000\n",
      "75/87 [========================>.....] - ETA: 0s - loss: 0.8610 - accuracy: 0.7089\n",
      "Epoch 182: saving model to keypoint_classifier.hdf5\n",
      "87/87 [==============================] - 0s 2ms/step - loss: 0.8554 - accuracy: 0.7103 - val_loss: 0.2597 - val_accuracy: 0.9793\n",
      "Epoch 183/1000\n",
      "73/87 [========================>.....] - ETA: 0s - loss: 0.8417 - accuracy: 0.7144\n",
      "Epoch 183: saving model to keypoint_classifier.hdf5\n",
      "87/87 [==============================] - 0s 2ms/step - loss: 0.8346 - accuracy: 0.7174 - val_loss: 0.2610 - val_accuracy: 0.9804\n",
      "Epoch 184/1000\n",
      "44/87 [==============>...............] - ETA: 0s - loss: 0.8774 - accuracy: 0.7006\n",
      "Epoch 184: saving model to keypoint_classifier.hdf5\n",
      "87/87 [==============================] - 0s 2ms/step - loss: 0.8586 - accuracy: 0.7070 - val_loss: 0.2739 - val_accuracy: 0.9753\n",
      "Epoch 185/1000\n",
      "85/87 [============================>.] - ETA: 0s - loss: 0.8520 - accuracy: 0.7197\n",
      "Epoch 185: saving model to keypoint_classifier.hdf5\n",
      "87/87 [==============================] - 0s 2ms/step - loss: 0.8511 - accuracy: 0.7201 - val_loss: 0.2604 - val_accuracy: 0.9818\n",
      "Epoch 186/1000\n",
      "86/87 [============================>.] - ETA: 0s - loss: 0.8527 - accuracy: 0.7071\n",
      "Epoch 186: saving model to keypoint_classifier.hdf5\n",
      "87/87 [==============================] - 0s 2ms/step - loss: 0.8522 - accuracy: 0.7074 - val_loss: 0.2696 - val_accuracy: 0.9791\n",
      "Epoch 187/1000\n",
      "86/87 [============================>.] - ETA: 0s - loss: 0.8385 - accuracy: 0.7134\n",
      "Epoch 187: saving model to keypoint_classifier.hdf5\n",
      "87/87 [==============================] - 0s 2ms/step - loss: 0.8379 - accuracy: 0.7136 - val_loss: 0.2549 - val_accuracy: 0.9796\n",
      "Epoch 188/1000\n",
      "43/87 [=============>................] - ETA: 0s - loss: 0.8508 - accuracy: 0.7100\n",
      "Epoch 188: saving model to keypoint_classifier.hdf5\n",
      "87/87 [==============================] - 0s 2ms/step - loss: 0.8441 - accuracy: 0.7090 - val_loss: 0.2592 - val_accuracy: 0.9815\n",
      "Epoch 189/1000\n",
      "86/87 [============================>.] - ETA: 0s - loss: 0.8421 - accuracy: 0.7183\n",
      "Epoch 189: saving model to keypoint_classifier.hdf5\n",
      "87/87 [==============================] - 0s 2ms/step - loss: 0.8418 - accuracy: 0.7184 - val_loss: 0.2620 - val_accuracy: 0.9739\n",
      "Epoch 190/1000\n",
      "43/87 [=============>................] - ETA: 0s - loss: 0.8308 - accuracy: 0.7144\n",
      "Epoch 190: saving model to keypoint_classifier.hdf5\n",
      "87/87 [==============================] - 0s 2ms/step - loss: 0.8365 - accuracy: 0.7147 - val_loss: 0.2623 - val_accuracy: 0.9758\n",
      "Epoch 191/1000\n",
      "87/87 [==============================] - ETA: 0s - loss: 0.8577 - accuracy: 0.7082\n",
      "Epoch 191: saving model to keypoint_classifier.hdf5\n",
      "87/87 [==============================] - 0s 2ms/step - loss: 0.8577 - accuracy: 0.7082 - val_loss: 0.2636 - val_accuracy: 0.9772\n",
      "Epoch 191: early stopping\n"
     ]
    },
    {
     "data": {
      "text/plain": [
       "<keras.callbacks.History at 0x260daba79a0>"
      ]
     },
     "execution_count": 12,
     "metadata": {},
     "output_type": "execute_result"
    }
   ],
   "source": [
    "model.fit(\n",
    "    X_train,\n",
    "    y_train,\n",
    "    epochs=1000,\n",
    "    batch_size=128,\n",
    "    validation_data=(X_test, y_test),\n",
    "    callbacks=[cp_callback, es_callback]\n",
    ")"
   ]
  },
  {
   "cell_type": "code",
   "execution_count": 13,
   "metadata": {
    "colab": {
     "base_uri": "https://localhost:8080/"
    },
    "id": "pxvb2Y299hE3",
    "outputId": "59eb3185-2e37-4b9e-bc9d-ab1b8ac29b7f"
   },
   "outputs": [
    {
     "name": "stdout",
     "output_type": "stream",
     "text": [
      "29/29 [==============================] - 0s 962us/step - loss: 0.2636 - accuracy: 0.9772\n"
     ]
    }
   ],
   "source": [
    "# Model evaluation\n",
    "val_loss, val_acc = model.evaluate(X_test, y_test, batch_size=128)"
   ]
  },
  {
   "cell_type": "code",
   "execution_count": 14,
   "metadata": {
    "id": "RBkmDeUW9hE4"
   },
   "outputs": [],
   "source": [
    "# Loading the saved model\n",
    "model = tf.keras.models.load_model(model_save_path)"
   ]
  },
  {
   "cell_type": "code",
   "execution_count": 15,
   "metadata": {
    "colab": {
     "base_uri": "https://localhost:8080/"
    },
    "id": "tFz9Tb0I9hE4",
    "outputId": "1c3b3528-54ae-4ee2-ab04-77429211cbef"
   },
   "outputs": [
    {
     "name": "stdout",
     "output_type": "stream",
     "text": [
      "1/1 [==============================] - 0s 66ms/step\n",
      "[1.9767064e-04 1.0076204e-02 4.4775844e-04 1.1921099e-03 1.5202322e-03\n",
      " 8.5087772e-04 1.9102664e-04 1.3647204e-04 6.9196091e-04 2.7844144e-04\n",
      " 1.0603548e-01 1.3680836e-04 6.5179733e-03 4.8172278e-03 2.5684101e-04\n",
      " 2.1774886e-05 6.4637720e-06 9.6252836e-02 1.9268029e-03 5.0078821e-04\n",
      " 6.0713214e-01 1.2446526e-01 2.7345931e-02 7.2622178e-03 1.6646860e-05\n",
      " 1.7220656e-03]\n",
      "20\n"
     ]
    }
   ],
   "source": [
    "# Inference test\n",
    "predict_result = model.predict(np.array([X_test[0]]))\n",
    "print(np.squeeze(predict_result))\n",
    "print(np.argmax(np.squeeze(predict_result)))"
   ]
  },
  {
   "cell_type": "markdown",
   "metadata": {
    "id": "S3U4yNWx9hE4"
   },
   "source": [
    "# Confusion matrix"
   ]
  },
  {
   "cell_type": "code",
   "execution_count": 16,
   "metadata": {
    "colab": {
     "base_uri": "https://localhost:8080/",
     "height": 582
    },
    "id": "AP1V6SCk9hE5",
    "outputId": "08e41a80-7a4a-4619-8125-ecc371368d19"
   },
   "outputs": [
    {
     "name": "stdout",
     "output_type": "stream",
     "text": [
      "115/115 [==============================] - 0s 682us/step\n"
     ]
    },
    {
     "data": {
      "image/png": "[encoded data removed]",
      "text/plain": [
       "<Figure size 700x600 with 2 Axes>"
      ]
     },
     "metadata": {},
     "output_type": "display_data"
    },
    {
     "name": "stdout",
     "output_type": "stream",
     "text": [
      "Classification Report\n",
      "              precision    recall  f1-score   support\n",
      "\n",
      "         0.0       1.00      0.90      0.95       149\n",
      "         1.0       0.99      0.99      0.99       126\n",
      "         2.0       1.00      0.93      0.96       146\n",
      "         3.0       0.94      1.00      0.97       139\n",
      "         4.0       0.97      1.00      0.99       143\n",
      "         5.0       1.00      1.00      1.00       137\n",
      "         6.0       1.00      1.00      1.00       124\n",
      "         7.0       0.99      1.00      1.00       130\n",
      "         8.0       1.00      0.97      0.99       143\n",
      "         9.0       1.00      1.00      1.00       138\n",
      "        10.0       0.99      0.92      0.96       139\n",
      "        11.0       0.99      1.00      1.00       155\n",
      "        12.0       1.00      0.99      1.00       140\n",
      "        13.0       0.93      0.98      0.95       125\n",
      "        14.0       0.99      1.00      1.00       140\n",
      "        15.0       1.00      0.99      1.00       139\n",
      "        16.0       1.00      1.00      1.00       151\n",
      "        17.0       1.00      0.98      0.99       130\n",
      "        18.0       0.92      0.95      0.93       164\n",
      "        19.0       0.95      0.98      0.96       149\n",
      "        20.0       0.87      1.00      0.93       154\n",
      "        21.0       0.97      0.88      0.93       126\n",
      "        22.0       0.99      0.99      0.99       162\n",
      "        23.0       0.97      0.97      0.97       139\n",
      "        24.0       1.00      1.00      1.00       155\n",
      "        25.0       0.98      0.97      0.98       135\n",
      "\n",
      "    accuracy                           0.98      3678\n",
      "   macro avg       0.98      0.98      0.98      3678\n",
      "weighted avg       0.98      0.98      0.98      3678\n",
      "\n"
     ]
    }
   ],
   "source": [
    "import pandas as pd\n",
    "import seaborn as sns\n",
    "import matplotlib.pyplot as plt\n",
    "from sklearn.metrics import confusion_matrix, classification_report\n",
    "\n",
    "def print_confusion_matrix(y_true, y_pred, report=True):\n",
    "    labels = sorted(list(set(y_true)))\n",
    "    cmx_data = confusion_matrix(y_true, y_pred, labels=labels)\n",
    "    \n",
    "    df_cmx = pd.DataFrame(cmx_data, index=labels, columns=labels)\n",
    " \n",
    "    fig, ax = plt.subplots(figsize=(7, 6))\n",
    "    sns.heatmap(df_cmx, annot=True, fmt='g' ,square=False)\n",
    "    ax.set_ylim(len(set(y_true)), 0)\n",
    "    plt.show()\n",
    "    \n",
    "    if report:\n",
    "        print('Classification Report')\n",
    "        print(classification_report(y_test, y_pred))\n",
    "\n",
    "Y_pred = model.predict(X_test)\n",
    "y_pred = np.argmax(Y_pred, axis=1)\n",
    "\n",
    "print_confusion_matrix(y_test, y_pred)"
   ]
  },
  {
   "cell_type": "markdown",
   "metadata": {
    "id": "FNP6aqzc9hE5"
   },
   "source": [
    "# Convert to model for Tensorflow-Lite"
   ]
  },
  {
   "cell_type": "code",
   "execution_count": 17,
   "metadata": {
    "id": "ODjnYyld9hE6"
   },
   "outputs": [],
   "source": [
    "# Save as a model dedicated to inference\n",
    "model.save(model_save_path, include_optimizer=False)"
   ]
  },
  {
   "cell_type": "code",
   "execution_count": 18,
   "metadata": {
    "colab": {
     "base_uri": "https://localhost:8080/"
    },
    "id": "zRfuK8Y59hE6",
    "outputId": "a4ca585c-b5d5-4244-8291-8674063209bb"
   },
   "outputs": [
    {
     "name": "stderr",
     "output_type": "stream",
     "text": [
      "WARNING:absl:Found untraced functions such as _update_step_xla while saving (showing 1 of 1). These functions will not be directly callable after loading.\n"
     ]
    },
    {
     "name": "stdout",
     "output_type": "stream",
     "text": [
      "INFO:tensorflow:Assets written to: C:\\Users\\anton\\AppData\\Local\\Temp\\tmpr5n_m4jm\\assets\n"
     ]
    },
    {
     "name": "stderr",
     "output_type": "stream",
     "text": [
      "INFO:tensorflow:Assets written to: C:\\Users\\anton\\AppData\\Local\\Temp\\tmpr5n_m4jm\\assets\n"
     ]
    },
    {
     "data": {
      "text/plain": [
       "7512"
      ]
     },
     "execution_count": 18,
     "metadata": {},
     "output_type": "execute_result"
    }
   ],
   "source": [
    "# Transform model (quantization)\n",
    "\n",
    "converter = tf.lite.TFLiteConverter.from_keras_model(model)\n",
    "converter.optimizations = [tf.lite.Optimize.DEFAULT]\n",
    "tflite_quantized_model = converter.convert()\n",
    "\n",
    "open(tflite_save_path, 'wb').write(tflite_quantized_model)"
   ]
  },
  {
   "cell_type": "markdown",
   "metadata": {
    "id": "CHBPBXdx9hE6"
   },
   "source": [
    "# Inference test"
   ]
  },
  {
   "cell_type": "code",
   "execution_count": 19,
   "metadata": {
    "id": "mGAzLocO9hE7"
   },
   "outputs": [],
   "source": [
    "interpreter = tf.lite.Interpreter(model_path=tflite_save_path)\n",
    "interpreter.allocate_tensors()"
   ]
  },
  {
   "cell_type": "code",
   "execution_count": 20,
   "metadata": {
    "id": "oQuDK8YS9hE7"
   },
   "outputs": [],
   "source": [
    "# Get I / O tensor\n",
    "input_details = interpreter.get_input_details()\n",
    "output_details = interpreter.get_output_details()"
   ]
  },
  {
   "cell_type": "code",
   "execution_count": 21,
   "metadata": {
    "id": "2_ixAf_l9hE7"
   },
   "outputs": [
    {
     "ename": "ValueError",
     "evalue": "Cannot set tensor: Got value of type FLOAT64 but expected type FLOAT32 for input 0, name: serving_default_input_1:0 ",
     "output_type": "error",
     "traceback": [
      "\u001b[1;31m---------------------------------------------------------------------------\u001b[0m",
      "\u001b[1;31mValueError\u001b[0m                                Traceback (most recent call last)",
      "\u001b[1;32m~\\AppData\\Local\\Temp\\ipykernel_9628\\3381142894.py\u001b[0m in \u001b[0;36m<module>\u001b[1;34m\u001b[0m\n\u001b[1;32m----> 1\u001b[1;33m \u001b[0minterpreter\u001b[0m\u001b[1;33m.\u001b[0m\u001b[0mset_tensor\u001b[0m\u001b[1;33m(\u001b[0m\u001b[0minput_details\u001b[0m\u001b[1;33m[\u001b[0m\u001b[1;36m0\u001b[0m\u001b[1;33m]\u001b[0m\u001b[1;33m[\u001b[0m\u001b[1;34m'index'\u001b[0m\u001b[1;33m]\u001b[0m\u001b[1;33m,\u001b[0m \u001b[0mnp\u001b[0m\u001b[1;33m.\u001b[0m\u001b[0marray\u001b[0m\u001b[1;33m(\u001b[0m\u001b[1;33m[\u001b[0m\u001b[0mX_test\u001b[0m\u001b[1;33m[\u001b[0m\u001b[1;36m0\u001b[0m\u001b[1;33m]\u001b[0m\u001b[1;33m]\u001b[0m\u001b[1;33m)\u001b[0m\u001b[1;33m)\u001b[0m\u001b[1;33m\u001b[0m\u001b[1;33m\u001b[0m\u001b[0m\n\u001b[0m",
      "\u001b[1;32m~\\anaconda3\\lib\\site-packages\\tensorflow\\lite\\python\\interpreter.py\u001b[0m in \u001b[0;36mset_tensor\u001b[1;34m(self, tensor_index, value)\u001b[0m\n\u001b[0;32m    695\u001b[0m       \u001b[0mValueError\u001b[0m\u001b[1;33m:\u001b[0m \u001b[0mIf\u001b[0m \u001b[0mthe\u001b[0m \u001b[0minterpreter\u001b[0m \u001b[0mcould\u001b[0m \u001b[1;32mnot\u001b[0m \u001b[0mset\u001b[0m \u001b[0mthe\u001b[0m \u001b[0mtensor\u001b[0m\u001b[1;33m.\u001b[0m\u001b[1;33m\u001b[0m\u001b[1;33m\u001b[0m\u001b[0m\n\u001b[0;32m    696\u001b[0m     \"\"\"\n\u001b[1;32m--> 697\u001b[1;33m     \u001b[0mself\u001b[0m\u001b[1;33m.\u001b[0m\u001b[0m_interpreter\u001b[0m\u001b[1;33m.\u001b[0m\u001b[0mSetTensor\u001b[0m\u001b[1;33m(\u001b[0m\u001b[0mtensor_index\u001b[0m\u001b[1;33m,\u001b[0m \u001b[0mvalue\u001b[0m\u001b[1;33m)\u001b[0m\u001b[1;33m\u001b[0m\u001b[1;33m\u001b[0m\u001b[0m\n\u001b[0m\u001b[0;32m    698\u001b[0m \u001b[1;33m\u001b[0m\u001b[0m\n\u001b[0;32m    699\u001b[0m   \u001b[1;32mdef\u001b[0m \u001b[0mresize_tensor_input\u001b[0m\u001b[1;33m(\u001b[0m\u001b[0mself\u001b[0m\u001b[1;33m,\u001b[0m \u001b[0minput_index\u001b[0m\u001b[1;33m,\u001b[0m \u001b[0mtensor_size\u001b[0m\u001b[1;33m,\u001b[0m \u001b[0mstrict\u001b[0m\u001b[1;33m=\u001b[0m\u001b[1;32mFalse\u001b[0m\u001b[1;33m)\u001b[0m\u001b[1;33m:\u001b[0m\u001b[1;33m\u001b[0m\u001b[1;33m\u001b[0m\u001b[0m\n",
      "\u001b[1;31mValueError\u001b[0m: Cannot set tensor: Got value of type FLOAT64 but expected type FLOAT32 for input 0, name: serving_default_input_1:0 "
     ]
    }
   ],
   "source": [
    "interpreter.set_tensor(input_details[0]['index'], np.array([X_test[0]]))"
   ]
  },
  {
   "cell_type": "code",
   "execution_count": null,
   "metadata": {
    "colab": {
     "base_uri": "https://localhost:8080/"
    },
    "id": "s4FoAnuc9hE7",
    "outputId": "91f18257-8d8b-4ef3-c558-e9b5f94fabbf",
    "scrolled": true
   },
   "outputs": [],
   "source": [
    "%%time\n",
    "# Inference implementation\n",
    "interpreter.invoke()\n",
    "tflite_results = interpreter.get_tensor(output_details[0]['index'])"
   ]
  },
  {
   "cell_type": "code",
   "execution_count": null,
   "metadata": {
    "colab": {
     "base_uri": "https://localhost:8080/"
    },
    "id": "vONjp19J9hE8",
    "outputId": "77205e24-fd00-42c4-f7b6-e06e527c2cba"
   },
   "outputs": [],
   "source": [
    "print(np.squeeze(tflite_results))\n",
    "print(np.argmax(np.squeeze(tflite_results)))"
   ]
  },
  {
   "cell_type": "code",
   "execution_count": null,
   "metadata": {},
   "outputs": [],
   "source": []
  }
 ],
 "metadata": {
  "accelerator": "GPU",
  "colab": {
   "collapsed_sections": [],
   "name": "keypoint_classification_EN.ipynb",
   "provenance": [],
   "toc_visible": true
  },
  "kernelspec": {
   "display_name": "Python 3 (ipykernel)",
   "language": "python",
   "name": "python3"
  },
  "language_info": {
   "codemirror_mode": {
    "name": "ipython",
    "version": 3
   },
   "file_extension": ".py",
   "mimetype": "text/x-python",
   "name": "python",
   "nbconvert_exporter": "python",
   "pygments_lexer": "ipython3",
   "version": "3.9.13"
  }
 },
 "nbformat": 4,
 "nbformat_minor": 1
}
